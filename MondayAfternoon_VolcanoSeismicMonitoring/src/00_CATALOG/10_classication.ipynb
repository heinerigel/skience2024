{
 "cells": [
  {
   "cell_type": "markdown",
   "id": "c39fe136-f4f0-4e0c-9289-210354fdd6c8",
   "metadata": {},
   "source": [
    "# Compute event metrics\n"
   ]
  },
  {
   "cell_type": "code",
   "execution_count": null,
   "id": "17f2b234-5825-4dc3-91c7-5675c0505151",
   "metadata": {},
   "outputs": [],
   "source": [
    "# copy & modify AVO code to plot eventrate & energy rate & eventually sausage plot"
   ]
  },
  {
   "cell_type": "code",
   "execution_count": null,
   "id": "1cfd7923-f0f9-486c-9b9a-ad8e98114a16",
   "metadata": {},
   "outputs": [],
   "source": [
    "# also swarm alarm system"
   ]
  },
  {
   "cell_type": "code",
   "execution_count": null,
   "id": "df2ef2be-1112-49cb-8d9a-9385694fd461",
   "metadata": {},
   "outputs": [],
   "source": [
    "import sys\n",
    "from pathlib import Path\n",
    "import obspy\n",
    "localLibPath = Path.cwd().resolve().parents[0].joinpath('lib')\n",
    "sys.path.append(str(localLibPath))\n",
    "import tools\n",
    "EVENTS_DIR = Path.cwd().parents[1].joinpath('data','events')\n",
    "from SAM import RSAM\n",
    "\n",
    "# load catalog\n",
    "catObj = tools.load_catalog(pklfile)\n",
    "\n",
    "# process events\n",
    "for i, evObj in enumerate(catObj.events):\n",
    "    mseedfile = catObj.miniseedfiles[i]\n",
    "    st = obspy.read(mseedfile)\n",
    "    st.trim(starttime=ev['time'], endtime=ev['time']+ev['duration'])\n",
    "    rsamObj1s = RSAM(stream=st, sampling_interval=5)\n",
    "    rsamfile = mseedfile.replace('.mseed', '.rsam1s')\n",
    "    rsamObj1s.write(EVENTS_DIR, os.path.basename(rsamfile))\n",
    "    rsamObj1s.plot(metrics=['median', 'max', 'fratio'])\n",
    "\n"
   ]
  },
  {
   "cell_type": "code",
   "execution_count": null,
   "id": "33eb324c-c91f-4a19-92c2-597a65470141",
   "metadata": {},
   "outputs": [],
   "source": []
  }
 ],
 "metadata": {
  "kernelspec": {
   "display_name": "Python 3 (ipykernel)",
   "language": "python",
   "name": "python3"
  },
  "language_info": {
   "codemirror_mode": {
    "name": "ipython",
    "version": 3
   },
   "file_extension": ".py",
   "mimetype": "text/x-python",
   "name": "python",
   "nbconvert_exporter": "python",
   "pygments_lexer": "ipython3",
   "version": "3.10.12"
  }
 },
 "nbformat": 4,
 "nbformat_minor": 5
}

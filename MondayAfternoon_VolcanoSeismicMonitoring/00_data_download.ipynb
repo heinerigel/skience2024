{
 "cells": [
  {
   "cell_type": "code",
   "execution_count": null,
   "id": "b93a5147-ba4b-4879-aad8-6218da1e6490",
   "metadata": {},
   "outputs": [],
   "source": [
    "import requests\n",
    "#fname = 'monday_afternoon_data.tar.gz'\n",
    "fname = 'monday_afternoon_data.tar'\n",
    "url = 'https://www.dropbox.com/scl/fi/2l8178pt9ay6q5im5q8eo/monday_afternoon_data.tar?rlkey=nfr01ollr2fyfv23y4jz07auo&dl=1'\n",
    "#print(f\"url={url}\")\n",
    "r = requests.get(url)\n",
    "open(fname , 'wb').write(r.content)\n",
    "\n",
    "import shutil\n",
    "shutil.unpack_archive(fname, '.')\n",
    "\n",
    "import os\n",
    "if os.path.isfile(fname):\n",
    "    os.remove(fname)\n",
    "\n",
    "from pathlib import Path\n",
    "localLibPath = Path.cwd().joinpath('lib')\n",
    "from tools import tree\n",
    "\n",
    "       \n",
    "print('Tree listing of data directory')\n",
    "for line in tree(Path.cwd().joinpath('data')):\n",
    "    print(line)"
   ]
  }
 ],
 "metadata": {
  "kernelspec": {
   "display_name": "Python 3 (ipykernel)",
   "language": "python",
   "name": "python3"
  },
  "language_info": {
   "codemirror_mode": {
    "name": "ipython",
    "version": 3
   },
   "file_extension": ".py",
   "mimetype": "text/x-python",
   "name": "python",
   "nbconvert_exporter": "python",
   "pygments_lexer": "ipython3",
   "version": "3.11.8"
  }
 },
 "nbformat": 4,
 "nbformat_minor": 5
}

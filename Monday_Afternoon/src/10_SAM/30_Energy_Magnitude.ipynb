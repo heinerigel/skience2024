{
 "cells": [
  {
   "cell_type": "markdown",
   "id": "602bce81-edb6-4a47-a2c3-b43e4720da56",
   "metadata": {},
   "source": [
    "# Energy-Magnitude notebook\n",
    "\n",
    "Ampitude measurements, such as RSAM and Reduced Displacement, do not effectively capture the size of an event because some events of equal amplitude may be of very different durations. So it is useful to estimate the energy of the event. Furthermore, because event energy can range of several orders of magnitude, it is useful to define an energy magnitude.\n",
    "\n",
    "We compute seismic source energy  (in J) via the equation:\n",
    "\n",
    "\n",
    "\n",
    "(Boatwright, 198?, Johnson and Aster, 2003). \n",
    "\n",
    "Since this includes a correction for geometrical spreading, we will call it Reduced Energy ($E_{R}$).\n",
    "\n",
    "The quantity ---- is similar to RSEM (Real-time Seismic Energy Measurement) but computed on a velocity seismogram rather than a raw seismogram, so we call it VSEM.\n",
    "\n",
    "And then following Hanks and Kanamori (1???), we define Energy-Magnitude ($M_{E}$) as:\n",
    "\n",
    "We will now compute $E_{S}$ and $M_{E}$ for the same events we examined in the Reduced Displacement tutorial.\n",
    "\n",
    "References:\n",
    "\n",
    "- Boatwright, ...\n",
    "- Johnson & Aster, ...\n",
    "- VSEM?\n",
    "- Hanks and Kanamori ...\n"
   ]
  },
  {
   "cell_type": "code",
   "execution_count": null,
   "id": "991aa125-2147-4542-a859-36554fce3611",
   "metadata": {},
   "outputs": [],
   "source": [
    "import os\n",
    "import sys\n",
    "import obspy\n",
    "sys.path.append('../lib')\n",
    "from SAM import VSEM "
   ]
  },
  {
   "cell_type": "code",
   "execution_count": null,
   "id": "152ba14d-b0c5-4f57-9575-e9ee45af6eab",
   "metadata": {},
   "outputs": [],
   "source": [
    "# Load raw seismic data - and set units accordingly\n",
    "mseedfile = os.path.join('..','..','data','continuous','SDS','2009','AV','REF','EHZ.D', 'AV.REF..EHZ.D.2009.081' )\n",
    "st = obspy.read(mseedfile, 'MSEED')\n",
    "for tr in st:\n",
    "    tr.stats['units'] = 'Counts'\n",
    "st.plot();\n",
    "\n",
    "# load instrument response, remove instrument response from seismogram\n",
    "stationxml = '../../data/responses/AV.xml'\n",
    "inv = obspy.read_inventory(stationxml)\n",
    "#st.detrend('linear')\n",
    "#st.taper(0.05, type='hann')\n",
    "\n",
    "# remove instrument response - and set units accordingly IMPORTANT!\n",
    "pre_filt = [0.25, 0.5, 25, 50]\n",
    "st.remove_response(inventory=inv, pre_filt=pre_filt, output=\"VEL\", plot=True) "
   ]
  },
  {
   "cell_type": "code",
   "execution_count": null,
   "id": "9607ffcd-f6c5-44d7-b20f-c06d0bc001fa",
   "metadata": {},
   "outputs": [],
   "source": [
    "for tr in st:\n",
    "    tr.stats['units'] = 'm2/s'\n",
    "st.plot();\n",
    "\n",
    "#################################################\n",
    "# So far we just have a displacement seismogram\n",
    "#################################################\n",
    "\n",
    "# Generate a VSEM object - units must be 'm' else will not work\n",
    "vsemObj = VSEM(stream=st, sampling_interval=600)\n",
    "print(vsemObj)\n",
    "\n",
    "# Define a source location for Redoubt volcano. Station distances to this lat/lon are used to \"reduce\" the displacement to 1 km distance.\n",
    "source = {'lat':60.4845, 'lon':-152.7392}\n",
    "print(source)\n",
    "\n",
    "# Generate a Reduced Energy object, assuming body waves (surfaceWaves=False) and no inelastic attenuation (Q=None)\n",
    "ERobj = vsemObj.compute_reduced_energy(inv, source, Q=None)\n",
    "ERobj.plot(metrics='energy')\n",
    "\n",
    "# Compute Energy Magnitude\n",
    "ERobj.sum_energy()"
   ]
  },
  {
   "cell_type": "markdown",
   "id": "922932fc-8aa3-43b7-baf0-6d1e9c6ce755",
   "metadata": {},
   "source": [
    "## 3. Comparing the Reduced Energy and Energy Magnitude of several eruptions\n",
    "\n",
    "1-minute VSEM data have been pre-computed for several eruptions. We will now load these, compute Reduced Energy, and compare them. \n",
    "\n",
    "As before, we will capture the highest reduced displacement into a results DataFrame, resultsDF, and we will compute Reduced Energy in two frequency bands. The default is 0.5-18.0 Hz. The second is a VLP passband, from 0.02 to 0.2 Hz. We write a function, compute_reduced_energies, so we don't have to keep repeating the same code block:"
   ]
  },
  {
   "cell_type": "code",
   "execution_count": null,
   "id": "5c626399-be9a-4ee3-90aa-79d10d5f7e3f",
   "metadata": {
    "scrolled": true
   },
   "outputs": [],
   "source": [
    "import os\n",
    "import sys\n",
    "import glob\n",
    "import pandas as pd\n",
    "import obspy\n",
    "sys.path.append('../lib')\n",
    "import setup_paths\n",
    "paths = setup_paths.paths\n",
    "from SAM import VSEM\n",
    "\n",
    "resultsDF = pd.DataFrame(columns=['Event', 'sum(ER)', 'ME', 'sum(ER_VLP)', 'ME_VLP'])\n",
    "\n",
    "def compute_reduced_energies(eventname, vsemObj, source, stationxml, resultsDF):\n",
    "    vsemObj = vsemObj.select(component='Z')\n",
    "    inv = obspy.read_inventory(stationxml)\n",
    "    \n",
    "    # reduced energy\n",
    "    ERobj = vsemObj.compute_reduced_energy(inv, source)\n",
    "    ERobj.plot(metrics='energy')\n",
    "    sumE, ME = ERobj.sum_energy(metric='energy')\n",
    "    sumE_VLP, ME_VLP = ERobj.sum_energy(metric='VLP')\n",
    "    \n",
    "    # add to results\n",
    "    resultsDF.loc[len(resultsDF.index)] = [eventname, sumE, ME, sumE_VLP, ME_VLP]\n",
    "    display(resultsDF)"
   ]
  },
  {
   "cell_type": "markdown",
   "id": "943d7569-a2a0-4262-82f1-114423020e30",
   "metadata": {},
   "source": [
    "### 3.1 Event 1: Boxing Day Collapse 1997, Montserrat\n",
    "\n",
    "29 months into the eruption of the Soufriere Hills Volcano, Montserrat, part of the crater wall the lava dome was growing within (and overtopping) suddenly collapsed in a landslide, causing a sideways explosion of the lava dome which effectively removed all traces of villages in the southwest quadrant of Montserrat (the villages had been evacuated more than a year earlier). At this time, there were only 2 stations operational, due to months of pyroclastic flows which had destroyed the capital, Plymouth, the airport, numerous other villages, and several seismic stations, and it was much too dangerous to replace them."
   ]
  },
  {
   "cell_type": "code",
   "execution_count": null,
   "id": "42890433-c78b-474d-b0eb-4dea0eee8e42",
   "metadata": {
    "scrolled": true
   },
   "outputs": [],
   "source": [
    "# Event name\n",
    "eventname1 = 'Boxing Day Collapse 1997'\n",
    "source1 = {'lat':16.71111, 'lon':-62.17722}\n",
    "stationxml1 = '../../data/responses/MV.xml'\n",
    "startt1 = obspy.UTCDateTime(1997,12,26,6,30,0)\n",
    "endt1 = obspy.UTCDateTime(1997,12,26,8,0,0)\n",
    "vsemObj1 = VSEM.read(startt1, endt1, SAM_DIR=paths['SAM_DIR'], sampling_interval=60, ext='pickle', trace_ids=['MV.MBWH..SHZ', 'MV.MBLG..SHZ'])\n",
    "compute_reduced_energies(eventname1, vsemObj1, source1, stationxml1, resultsDF)"
   ]
  },
  {
   "cell_type": "markdown",
   "id": "d1385b10-5df8-41ae-8a63-83161758197e",
   "metadata": {},
   "source": [
    "In this example, for the regular passband, we get very similar values of reduced displacement whether we assume body waves or surface waves - both around 217 ${cm}^2$. In the VLP passband, the signal is 10 times smaller, which isn't surprising as the only stations available had short-period seismometers.\n",
    "\n",
    "### 3.2 July 12th 2003 Dome collapse, Montserrat\n",
    "On July 12th, 2003, over 200 million ${m}^3$ of the lava dome collapse in a series of explosions and pyroclastic flows, over a few hours. Let's compare the Reduced Displacement of this event to the Boxing Day 1997 collapse we just examined. Since this collapse happened mostly down the Tar River Valley, we will pick a source location there, rather than one centred on the lava dome."
   ]
  },
  {
   "cell_type": "code",
   "execution_count": null,
   "id": "0c7784f8-d039-406b-b42f-029bc7b4ce20",
   "metadata": {},
   "outputs": [],
   "source": [
    "eventname2 = '2003/07/12 collapse, Montserrat'\n",
    "stationxml2 = '../../data/responses/MV.xml'\n",
    "source2 = {'lat':16.7164, 'lon':-62.1654}  # Tar River\n",
    "startt2 = obspy.UTCDateTime(2003,7,12,23,0,0)\n",
    "endt2 = obspy.UTCDateTime(2003,7,13,5,0,0)\n",
    "vsemObj2 = VSEM.read(startt2, endt2, SAM_DIR=paths['SAM_DIR'], sampling_interval=60, ext='pickle', \\\n",
    "                    trace_ids=['MV.MBGH..BHZ', 'MV.MBLG..SHZ', 'MV.MBRY..BHZ', 'MV.MBSS..SHZ', 'MV.MBWH..SHZ'])\n",
    "compute_reduced_energies(eventname2, vsemObj2, source2, stationxml2, resultsDF)"
   ]
  },
  {
   "cell_type": "markdown",
   "id": "d3aa8c86-edbf-4ec7-af33-be48e657167a",
   "metadata": {},
   "source": [
    "### 3.3 Phreatic eruption, Whakaari, Dec 9th, 2019\n",
    "\n",
    "Whakaari - otherwise known as White Island - is the subaerial tip of a 1600 m high volcano that rises from the seafloor. Tourists arriving by boat and helicopter take a short hike into an open volcanic crater, past fumaroles, to an overlook of the crater lake. Phreatic eruptions are particularly difficult to forecast, as unlike magmatic eruptions, there are no seismic precursors (or indeed any other precuroses) that have been identified. Sadly, this particulary eruption led to the deaths of 22 tourists and guides. Let's compute the Reduced Displacement of this event.\n"
   ]
  },
  {
   "cell_type": "code",
   "execution_count": null,
   "id": "76edb1dc-4717-407b-926d-73604cb188d2",
   "metadata": {
    "scrolled": true
   },
   "outputs": [],
   "source": [
    "eventname3 = '2019/12/09 Phreatic explosion, Whakaari'\n",
    "stationxml3 = '../../data/responses/NZ.xml'\n",
    "source3 = {'lat':-37.5217, 'lon':177.185}\n",
    "startt3 = obspy.UTCDateTime(2019,12,9,1,0,0)\n",
    "endt3 = obspy.UTCDateTime(2019,12,9,1,30,0)\n",
    "vsemObj3 = VSEM.read(startt3, endt3, SAM_DIR=paths['SAM_DIR'], sampling_interval=60, ext='pickle')\n",
    "compute_reduced_energies(eventname3, vsemObj3, source3, stationxml3, resultsDF)"
   ]
  },
  {
   "attachments": {},
   "cell_type": "markdown",
   "id": "98e76be5-4a4c-4c62-8a70-92bb99de0e31",
   "metadata": {},
   "source": [
    "So this was a much smaller event - a Reduced Displacement of ~20 ${cm}^2$. It was also short in duration - just a few minutes long. But tourist groups inside the crater stood no chance.\n",
    "\n",
    "### 3.4 Sub-Plinian eruption of Redoubt volcano, March 23, 2009\n",
    "\n",
    "Redoubt volcano in Alaska had been in a state of unrest for 2-3 months, with deep-long-period earthquakes, deformation, swarms, and tremor, before explosively erupting at least 18 times between March 23rd and March 28th, 2009. We look only at March 23rd. There were actually 5 major explosive events on this day, which began at 6:38am (18,000 ft), 7:02am (44,000 ft), 08:14am (43,000 ft), 9:39am (43,000 ft), and 12:31pm (49,000 ft). \n",
    "\n",
    "The seismic data come from an analog telemetry system, and most channels are heavily contaminated by large interference spikes, and if we don't remove these, we'll end up with Reduced Displacement of ~10^7 ${cm}^2$ !! So we'll add an extra step to make sure the seismograms look good, before proceeding. It turns out there are only two stations free of this noise, RDN and REF, although these also become contaminated from around 3pm onwards."
   ]
  },
  {
   "cell_type": "code",
   "execution_count": null,
   "id": "5e2fdbbf-8a01-430b-a7b5-a8646f2b688d",
   "metadata": {},
   "outputs": [],
   "source": [
    "from obspy.clients.filesystem.sds import Client as sdsclient\n",
    "mySDSclient = sdsclient(paths['SDS_DISP_DIR'])\n",
    "startt4 = obspy.UTCDateTime(2009,3,23,6,0,0)\n",
    "endt4 = obspy.UTCDateTime(2009,3,23,15,0,0)\n",
    "st1 = mySDSclient.get_waveforms(\"AV\", \"RDN\", \"\", \"EHZ\", startt4, endt4)\n",
    "st2 = mySDSclient.get_waveforms(\"AV\", \"REF\", \"\", \"EHZ\", startt4, endt4)\n",
    "st = st1 + st2\n",
    "for tr in st:\n",
    "    tr.stats.units='m2/s'\n",
    "st.plot(equal_scale=False);"
   ]
  },
  {
   "cell_type": "markdown",
   "id": "380ae013-1393-4b1c-b5d8-062f6d92f728",
   "metadata": {},
   "source": [
    "The seismograms look clean, so now we'll compute the DSAM data and apply a clip level of 0.01 mm to the displacement seismogram. This might take 1-2 minutes because it is computing DSAM data for 24 hours of multi-channel data."
   ]
  },
  {
   "cell_type": "code",
   "execution_count": null,
   "id": "9a06ea2b-0adb-46db-8a66-135b73d360e4",
   "metadata": {},
   "outputs": [],
   "source": [
    "vsemObj4 = VSEM(stream=st, sampling_interval=60)\n",
    "\n",
    "eventname4 = '2009/03/23 Redoubt Sub-Plinian eruptions'\n",
    "stationxml4 = '../../data/responses/AV.xml'\n",
    "source4 = {'lat':60.4845, 'lon':-152.7392}\n",
    "compute_reduced_energies(eventname4, vsemObj4, source4, stationxml4, resultsDF)"
   ]
  },
  {
   "cell_type": "markdown",
   "id": "a9cc3258-abf2-44df-b836-8ae6f8785615",
   "metadata": {},
   "source": [
    "### 3.5 Hunga Tonga eruption, Jan 15th, 2022\n",
    "\n",
    "Our final example is Hunga Tonga, which on January 15th, 2022, exploded spectacularly, destroying most of the island, generating a tsunami, and seismic, pressure and gravity waves that propagated around the globe several times. "
   ]
  },
  {
   "cell_type": "code",
   "execution_count": null,
   "id": "a2f85776-963c-44e2-b305-c883573582f0",
   "metadata": {},
   "outputs": [],
   "source": [
    "from obspy.clients.filesystem.sds import Client as sdsclient\n",
    "eventname5 = 'Hunga Tonga, 2022/01/15'\n",
    "mySDSclient = sdsclient(paths['SDS_DISP_DIR'])\n",
    "startt5 = obspy.UTCDateTime(2022,1,15,3,30,0)\n",
    "endt5 = obspy.UTCDateTime(2022,1,15,10,0,0)\n",
    "st = mySDSclient.get_waveforms(\"II\", \"MSVF\", \"10\", \"BHZ\", startt5, endt5)\n",
    "for tr in st:\n",
    "    tr.stats.units='m2/s'\n",
    "st.plot(equal_scale=False);"
   ]
  },
  {
   "cell_type": "code",
   "execution_count": null,
   "id": "8df32797-9b33-4123-bb69-a2f789cb0fb7",
   "metadata": {},
   "outputs": [],
   "source": [
    "source5 = {'lat':-20.57, 'lon':-175.38}\n",
    "stationxml5 = '../../data/responses/II.xml'\n",
    "vsemObj5 = VSEM(stream=st, sampling_interval=60)\n",
    "compute_reduced_energies(eventname5, vsemObj5, source5, stationxml5, resultsDF)"
   ]
  },
  {
   "cell_type": "code",
   "execution_count": null,
   "id": "8f06e9b2-11c2-48dc-830f-cab9e8122bdf",
   "metadata": {},
   "outputs": [],
   "source": []
  }
 ],
 "metadata": {
  "kernelspec": {
   "display_name": "Python 3 (ipykernel)",
   "language": "python",
   "name": "python3"
  },
  "language_info": {
   "codemirror_mode": {
    "name": "ipython",
    "version": 3
   },
   "file_extension": ".py",
   "mimetype": "text/x-python",
   "name": "python",
   "nbconvert_exporter": "python",
   "pygments_lexer": "ipython3",
   "version": "3.10.13"
  }
 },
 "nbformat": 4,
 "nbformat_minor": 5
}
